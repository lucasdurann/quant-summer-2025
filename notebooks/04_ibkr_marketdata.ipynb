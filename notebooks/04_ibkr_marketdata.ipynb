{
 "cells": [
  {
   "cell_type": "markdown",
   "id": "390f598c",
   "metadata": {},
   "source": [
    "# API Data Pull"
   ]
  },
  {
   "cell_type": "code",
   "execution_count": 1,
   "id": "32ccc127",
   "metadata": {},
   "outputs": [
    {
     "data": {
      "text/plain": [
       "<IB connected to 127.0.0.1:7497 clientId=11>"
      ]
     },
     "execution_count": 1,
     "metadata": {},
     "output_type": "execute_result"
    },
    {
     "name": "stderr",
     "output_type": "stream",
     "text": [
      "Error 10089, reqId 6: Requested market data requires additional subscription for API. See link in 'Market Data Connections' dialog for more details.SPY ARCA/TOP/ALL, contract: Stock(symbol='SPY', exchange='SMART', currency='USD')\n",
      "Error 10089, reqId 5: Requested market data requires additional subscription for API. See link in 'Market Data Connections' dialog for more details.Delayed market data is available.AAPL NASDAQ.NMS/TOP/ALL, contract: Stock(symbol='AAPL', exchange='SMART', currency='USD')\n"
     ]
    }
   ],
   "source": [
    "# Imports and Connections\n",
    "\n",
    "import nest_asyncio\n",
    "nest_asyncio.apply()  # Allow nested event loops in Jupyter notebooks\n",
    "\n",
    "from ib_insync import *\n",
    "from pathlib import Path\n",
    "import pandas as pd\n",
    "\n",
    "DATA_DIR = Path(\"../data/raw_ibkr\")\n",
    "DATA_DIR.mkdir(parents=True, exist_ok=True)\n",
    "\n",
    "ib = IB()\n",
    "ib.connect('127.0.0.1', 7497, clientId=11)  # use a new clientId for notebooks\n"
   ]
  },
  {
   "cell_type": "code",
   "execution_count": 2,
   "id": "410063ba",
   "metadata": {},
   "outputs": [],
   "source": [
    "# Define helper to fetch 1-min bars\n",
    "\n",
    "def get_historicals(ticker: str, days: int = 2) -> pd.DataFrame:\n",
    "    \"\"\"\n",
    "    Pull `days` calendar days of 1-minute bars for `ticker`.\n",
    "    Returns a DataFrame indexed by datetime (UTC).\n",
    "    \"\"\"\n",
    "    contract = Stock(ticker, 'SMART', 'USD')\n",
    "    bars = ib.reqHistoricalData(\n",
    "        contract,\n",
    "        endDateTime='',\n",
    "        durationStr=f'{days} D',\n",
    "        barSizeSetting='1 min',\n",
    "        whatToShow='TRADES',\n",
    "        useRTH=False,\n",
    "        formatDate=1\n",
    "    )\n",
    "    df = util.df(bars)\n",
    "    df = df.rename(columns={'date': 'timestamp'}).set_index('timestamp')\n",
    "    return df\n"
   ]
  },
  {
   "cell_type": "code",
   "execution_count": 3,
   "id": "ce89946a",
   "metadata": {},
   "outputs": [
    {
     "name": "stdout",
     "output_type": "stream",
     "text": [
      "Saved AAPL: 1,807 rows → ..\\data\\raw_ibkr\\AAPL_1min.parquet\n",
      "Saved SPY: 1,807 rows → ..\\data\\raw_ibkr\\SPY_1min.parquet\n"
     ]
    }
   ],
   "source": [
    "# Pull data & save\n",
    "\n",
    "symbols = [\"AAPL\", \"SPY\"]\n",
    "for sym in symbols:\n",
    "    df = get_historicals(sym)\n",
    "    file_path = DATA_DIR / f\"{sym}_1min.parquet\"\n",
    "    df.to_parquet(file_path)\n",
    "    print(f\"Saved {sym}: {df.shape[0]:,} rows →\", file_path)\n"
   ]
  },
  {
   "cell_type": "code",
   "execution_count": 4,
   "id": "02e59898",
   "metadata": {},
   "outputs": [
    {
     "data": {
      "text/html": [
       "<div>\n",
       "<style scoped>\n",
       "    .dataframe tbody tr th:only-of-type {\n",
       "        vertical-align: middle;\n",
       "    }\n",
       "\n",
       "    .dataframe tbody tr th {\n",
       "        vertical-align: top;\n",
       "    }\n",
       "\n",
       "    .dataframe thead th {\n",
       "        text-align: right;\n",
       "    }\n",
       "</style>\n",
       "<table border=\"1\" class=\"dataframe\">\n",
       "  <thead>\n",
       "    <tr style=\"text-align: right;\">\n",
       "      <th></th>\n",
       "      <th>time</th>\n",
       "      <th>marketDataType</th>\n",
       "      <th>minTick</th>\n",
       "      <th>bid</th>\n",
       "      <th>bidSize</th>\n",
       "      <th>bidExchange</th>\n",
       "      <th>ask</th>\n",
       "      <th>askSize</th>\n",
       "      <th>askExchange</th>\n",
       "      <th>last</th>\n",
       "      <th>...</th>\n",
       "      <th>bidGreeks</th>\n",
       "      <th>askGreeks</th>\n",
       "      <th>lastGreeks</th>\n",
       "      <th>modelGreeks</th>\n",
       "      <th>auctionVolume</th>\n",
       "      <th>auctionPrice</th>\n",
       "      <th>auctionImbalance</th>\n",
       "      <th>regulatoryImbalance</th>\n",
       "      <th>bboExchange</th>\n",
       "      <th>snapshotPermissions</th>\n",
       "    </tr>\n",
       "  </thead>\n",
       "  <tbody>\n",
       "    <tr>\n",
       "      <th>0</th>\n",
       "      <td>None</td>\n",
       "      <td>1</td>\n",
       "      <td>NaN</td>\n",
       "      <td>NaN</td>\n",
       "      <td>NaN</td>\n",
       "      <td></td>\n",
       "      <td>NaN</td>\n",
       "      <td>NaN</td>\n",
       "      <td></td>\n",
       "      <td>NaN</td>\n",
       "      <td>...</td>\n",
       "      <td>None</td>\n",
       "      <td>None</td>\n",
       "      <td>None</td>\n",
       "      <td>None</td>\n",
       "      <td>NaN</td>\n",
       "      <td>NaN</td>\n",
       "      <td>NaN</td>\n",
       "      <td>NaN</td>\n",
       "      <td></td>\n",
       "      <td>0</td>\n",
       "    </tr>\n",
       "    <tr>\n",
       "      <th>1</th>\n",
       "      <td>None</td>\n",
       "      <td>1</td>\n",
       "      <td>NaN</td>\n",
       "      <td>NaN</td>\n",
       "      <td>NaN</td>\n",
       "      <td></td>\n",
       "      <td>NaN</td>\n",
       "      <td>NaN</td>\n",
       "      <td></td>\n",
       "      <td>NaN</td>\n",
       "      <td>...</td>\n",
       "      <td>None</td>\n",
       "      <td>None</td>\n",
       "      <td>None</td>\n",
       "      <td>None</td>\n",
       "      <td>NaN</td>\n",
       "      <td>NaN</td>\n",
       "      <td>NaN</td>\n",
       "      <td>NaN</td>\n",
       "      <td></td>\n",
       "      <td>0</td>\n",
       "    </tr>\n",
       "  </tbody>\n",
       "</table>\n",
       "<p>2 rows × 70 columns</p>\n",
       "</div>"
      ],
      "text/plain": [
       "   time  marketDataType  minTick  bid  bidSize bidExchange  ask  askSize  \\\n",
       "0  None               1      NaN  NaN      NaN              NaN      NaN   \n",
       "1  None               1      NaN  NaN      NaN              NaN      NaN   \n",
       "\n",
       "  askExchange  last  ...  bidGreeks askGreeks  lastGreeks  modelGreeks  \\\n",
       "0               NaN  ...       None      None        None         None   \n",
       "1               NaN  ...       None      None        None         None   \n",
       "\n",
       "   auctionVolume  auctionPrice  auctionImbalance  regulatoryImbalance  \\\n",
       "0            NaN           NaN               NaN                  NaN   \n",
       "1            NaN           NaN               NaN                  NaN   \n",
       "\n",
       "   bboExchange  snapshotPermissions  \n",
       "0                                 0  \n",
       "1                                 0  \n",
       "\n",
       "[2 rows x 70 columns]"
      ]
     },
     "execution_count": 4,
     "metadata": {},
     "output_type": "execute_result"
    }
   ],
   "source": [
    "# Live quote snapshot via reqMktData()\n",
    "from time import sleep\n",
    "\n",
    "symbols = [\"AAPL\", \"SPY\"]\n",
    "tickers = []\n",
    "for s in symbols:\n",
    "    contract = Stock(s, 'SMART', 'USD')\n",
    "    # snapshot=True, regulatorySnapshot=False\n",
    "    ticker = ib.reqMktData(contract, \"\", snapshot=True, regulatorySnapshot=False)\n",
    "    tickers.append(ticker)\n",
    "\n",
    "sleep(1)  # give IBKR a moment to fill the snapshot\n",
    "\n",
    "# turn the list of Ticker objects into a DataFrame\n",
    "live_df = util.df(tickers)\n",
    "clean_df = live_df.drop(columns=['contract'])\n",
    "clean_df.to_parquet(DATA_DIR / \"snapshots.parquet\")\n",
    "clean_df\n",
    "\n"
   ]
  },
  {
   "cell_type": "code",
   "execution_count": 5,
   "id": "5f5ed0b0",
   "metadata": {},
   "outputs": [],
   "source": [
    "# Cleanup\n",
    "\n",
    "ib.disconnect()"
   ]
  }
 ],
 "metadata": {
  "kernelspec": {
   "display_name": "quant",
   "language": "python",
   "name": "python3"
  },
  "language_info": {
   "codemirror_mode": {
    "name": "ipython",
    "version": 3
   },
   "file_extension": ".py",
   "mimetype": "text/x-python",
   "name": "python",
   "nbconvert_exporter": "python",
   "pygments_lexer": "ipython3",
   "version": "3.11.12"
  }
 },
 "nbformat": 4,
 "nbformat_minor": 5
}
