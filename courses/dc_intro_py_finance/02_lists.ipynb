{
 "cells": [
  {
   "cell_type": "markdown",
   "id": "1887ae95",
   "metadata": {},
   "source": [
    "## Chapter 2 - Lists"
   ]
  },
  {
   "cell_type": "code",
   "execution_count": 1,
   "id": "b6cc181f",
   "metadata": {},
   "outputs": [
    {
     "name": "stdout",
     "output_type": "stream",
     "text": [
      "Notebook running from: c:\\Tools\\miniconda3\\envs\\quant\\python.exe\n"
     ]
    }
   ],
   "source": [
    "import sys, pandas as pd, yfinance as yf, arch\n",
    "print(\"Notebook running from:\", sys.executable)"
   ]
  },
  {
   "cell_type": "markdown",
   "id": "e669f3ca",
   "metadata": {},
   "source": [
    "### Exercise 1 - Creating lists in Python"
   ]
  },
  {
   "cell_type": "code",
   "execution_count": 2,
   "id": "14ef8a3c",
   "metadata": {},
   "outputs": [
    {
     "name": "stdout",
     "output_type": "stream",
     "text": [
      "['Apple Inc', 'Coca-Cola', 'Walmart']\n",
      "[159.54, 37.13, 71.17]\n",
      "Apple Inc\n",
      "Coca-Cola\n",
      "71.17\n"
     ]
    }
   ],
   "source": [
    "# Create and print list names\n",
    "names = ['Apple Inc', 'Coca-Cola', 'Walmart']\n",
    "print(names)\n",
    "\n",
    "# Create and print list prices\n",
    "prices = [159.54, 37.13, 71.17]\n",
    "print (prices)\n",
    "\n",
    "# Print the first item in names\n",
    "print(names[0])\n",
    "\n",
    "# Print the second item in names\n",
    "print(names[1])\n",
    "\n",
    "# Print the last element in prices\n",
    "print(prices[-1])"
   ]
  },
  {
   "cell_type": "markdown",
   "id": "0b8ca257",
   "metadata": {},
   "source": [
    "### Exercise 2 - Slicing multiple list elements"
   ]
  },
  {
   "cell_type": "code",
   "execution_count": 3,
   "id": "47feb40b",
   "metadata": {},
   "outputs": [
    {
     "name": "stdout",
     "output_type": "stream",
     "text": [
      "['Coca-Cola', 'Walmart']\n",
      "[159.54, 37.13]\n"
     ]
    }
   ],
   "source": [
    "# Use slicing on list names\n",
    "names_subset = names[1:]\n",
    "print(names_subset)\n",
    "\n",
    "prices_subset = prices[:2]\n",
    "print(prices_subset)"
   ]
  },
  {
   "cell_type": "markdown",
   "id": "acbf4958",
   "metadata": {},
   "source": [
    "### Exercise 3 - Stock up a nested list"
   ]
  },
  {
   "cell_type": "code",
   "execution_count": 4,
   "id": "add8484d",
   "metadata": {},
   "outputs": [
    {
     "name": "stdout",
     "output_type": "stream",
     "text": [
      "[['Apple Inc', 'Coca-Cola', 'Walmart'], [159.54, 37.13, 71.17]]\n",
      "[159.54, 37.13, 71.17]\n"
     ]
    }
   ],
   "source": [
    "# Create and print the nested list stocks\n",
    "names = ['Apple Inc', 'Coca-Cola', 'Walmart']\n",
    "prices = [159.54, 37.13, 71.17]\n",
    "stocks = [(names), (prices)]\n",
    "print(stocks)\n",
    "\n",
    "# Use list indexing to obtain the list of prices\n",
    "print(stocks[1])"
   ]
  },
  {
   "cell_type": "markdown",
   "id": "9702e082",
   "metadata": {},
   "source": [
    "### Exercise 4 - Subset a nested list"
   ]
  },
  {
   "cell_type": "code",
   "execution_count": 5,
   "id": "885e5f8a",
   "metadata": {},
   "outputs": [
    {
     "name": "stdout",
     "output_type": "stream",
     "text": [
      "Coca-Cola\n",
      "71.17\n"
     ]
    }
   ],
   "source": [
    "# Use indexing to obtain company name Coca-Cola\n",
    "print(stocks[0][1])\n",
    "\n",
    "# Use indexing to obtain 71.17\n",
    "print(stocks[1][2])"
   ]
  },
  {
   "cell_type": "markdown",
   "id": "ab3c1662",
   "metadata": {},
   "source": [
    "### Exercise 5 - Exploring list methods and functions"
   ]
  },
  {
   "cell_type": "code",
   "execution_count": 6,
   "id": "7cca5329",
   "metadata": {},
   "outputs": [
    {
     "name": "stdout",
     "output_type": "stream",
     "text": [
      "[37.13, 71.17, 159.54]\n",
      "159.54\n"
     ]
    }
   ],
   "source": [
    "# Print the sorted list prices\n",
    "prices = [159.54, 37.13, 71.17]\n",
    "prices.sort()\n",
    "print(prices)\n",
    "\n",
    "# Find the maximum price in the list price\n",
    "price_max = max(prices)\n",
    "print(price_max)"
   ]
  },
  {
   "cell_type": "markdown",
   "id": "aabd8daa",
   "metadata": {},
   "source": [
    "### Exercise 6 - Using list methods to add data"
   ]
  },
  {
   "cell_type": "code",
   "execution_count": 7,
   "id": "940cc6bf",
   "metadata": {},
   "outputs": [
    {
     "name": "stdout",
     "output_type": "stream",
     "text": [
      "['Apple Inc', 'Coca-Cola', 'Walmart', 'Amazon.com']\n",
      "['Apple Inc', 'Coca-Cola', 'Walmart', 'Amazon.com', 'DowDuPont', 'Alphabet Inc']\n"
     ]
    }
   ],
   "source": [
    "# Append a name to the list names\n",
    "names.append('Amazon.com')\n",
    "print(names)\n",
    "\n",
    "# Extend list names\n",
    "more_elements = ['DowDuPont', 'Alphabet Inc']\n",
    "names.extend(more_elements)\n",
    "print(names)"
   ]
  },
  {
   "cell_type": "markdown",
   "id": "6c570dc2",
   "metadata": {},
   "source": [
    "### Exercies 7 - Finding stock with maximum price"
   ]
  },
  {
   "cell_type": "code",
   "execution_count": 8,
   "id": "04fecad6",
   "metadata": {},
   "outputs": [
    {
     "name": "stdout",
     "output_type": "stream",
     "text": [
      "The largest stock price is associated with Walmart and is $159.54.\n"
     ]
    }
   ],
   "source": [
    "# Do not modify this\n",
    "max_price = max(prices)\n",
    "\n",
    "# Identify index of max price\n",
    "max_index = prices.index(max_price)\n",
    "\n",
    "# Identify the name of the company with max price\n",
    "max_stock_name = names[max_index]\n",
    "\n",
    "# Fill in the blanks \n",
    "print('The largest stock price is associated with ' + max_stock_name + ' and is $' + str(max_price) + '.')"
   ]
  },
  {
   "cell_type": "markdown",
   "id": "22468954",
   "metadata": {},
   "source": [
    "## Extra Exercises"
   ]
  }
 ],
 "metadata": {
  "kernelspec": {
   "display_name": "quant",
   "language": "python",
   "name": "python3"
  },
  "language_info": {
   "codemirror_mode": {
    "name": "ipython",
    "version": 3
   },
   "file_extension": ".py",
   "mimetype": "text/x-python",
   "name": "python",
   "nbconvert_exporter": "python",
   "pygments_lexer": "ipython3",
   "version": "3.11.12"
  }
 },
 "nbformat": 4,
 "nbformat_minor": 5
}
