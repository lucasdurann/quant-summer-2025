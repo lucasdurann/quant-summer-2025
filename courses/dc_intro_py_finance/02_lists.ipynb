{
 "cells": [
  {
   "cell_type": "markdown",
   "id": "1887ae95",
   "metadata": {},
   "source": [
    "## Chapter 2 - Lists"
   ]
  },
  {
   "cell_type": "code",
   "execution_count": 1,
   "id": "b6cc181f",
   "metadata": {},
   "outputs": [
    {
     "name": "stdout",
     "output_type": "stream",
     "text": [
      "Notebook running from: c:\\Tools\\miniconda3\\envs\\quant\\python.exe\n"
     ]
    }
   ],
   "source": [
    "import sys, pandas as pd, yfinance as yf, arch\n",
    "print(\"Notebook running from:\", sys.executable)"
   ]
  },
  {
   "cell_type": "markdown",
   "id": "e669f3ca",
   "metadata": {},
   "source": [
    "### Exercise 1 - Creating lists in Python"
   ]
  },
  {
   "cell_type": "code",
   "execution_count": 2,
   "id": "14ef8a3c",
   "metadata": {},
   "outputs": [
    {
     "name": "stdout",
     "output_type": "stream",
     "text": [
      "['Apple Inc', 'Coca-Cola', 'Walmart']\n",
      "[159.54, 37.13, 71.17]\n",
      "Apple Inc\n",
      "Coca-Cola\n",
      "71.17\n"
     ]
    }
   ],
   "source": [
    "# Create and print list names\n",
    "names = ['Apple Inc', 'Coca-Cola', 'Walmart']\n",
    "print(names)\n",
    "\n",
    "# Create and print list prices\n",
    "prices = [159.54, 37.13, 71.17]\n",
    "print (prices)\n",
    "\n",
    "# Print the first item in names\n",
    "print(names[0])\n",
    "\n",
    "# Print the second item in names\n",
    "print(names[1])\n",
    "\n",
    "# Print the last element in prices\n",
    "print(prices[-1])"
   ]
  },
  {
   "cell_type": "markdown",
   "id": "0b8ca257",
   "metadata": {},
   "source": [
    "### Exercise 2 - Slicing multiple list elements"
   ]
  },
  {
   "cell_type": "code",
   "execution_count": 3,
   "id": "47feb40b",
   "metadata": {},
   "outputs": [
    {
     "name": "stdout",
     "output_type": "stream",
     "text": [
      "['Coca-Cola', 'Walmart']\n",
      "[159.54, 37.13]\n"
     ]
    }
   ],
   "source": [
    "# Use slicing on list names\n",
    "names_subset = names[1:]\n",
    "print(names_subset)\n",
    "\n",
    "prices_subset = prices[:2]\n",
    "print(prices_subset)"
   ]
  },
  {
   "cell_type": "markdown",
   "id": "acbf4958",
   "metadata": {},
   "source": [
    "### Exercise 3 - Stock up a nested list"
   ]
  },
  {
   "cell_type": "code",
   "execution_count": 4,
   "id": "add8484d",
   "metadata": {},
   "outputs": [
    {
     "name": "stdout",
     "output_type": "stream",
     "text": [
      "[['Apple Inc', 'Coca-Cola', 'Walmart'], [159.54, 37.13, 71.17]]\n",
      "[159.54, 37.13, 71.17]\n"
     ]
    }
   ],
   "source": [
    "# Create and print the nested list stocks\n",
    "names = ['Apple Inc', 'Coca-Cola', 'Walmart']\n",
    "prices = [159.54, 37.13, 71.17]\n",
    "stocks = [(names), (prices)]\n",
    "print(stocks)\n",
    "\n",
    "# Use list indexing to obtain the list of prices\n",
    "print(stocks[1])"
   ]
  },
  {
   "cell_type": "markdown",
   "id": "9702e082",
   "metadata": {},
   "source": [
    "### Exercise 4 - Subset a nested list"
   ]
  },
  {
   "cell_type": "code",
   "execution_count": 5,
   "id": "885e5f8a",
   "metadata": {},
   "outputs": [
    {
     "name": "stdout",
     "output_type": "stream",
     "text": [
      "Coca-Cola\n",
      "71.17\n"
     ]
    }
   ],
   "source": [
    "# Use indexing to obtain company name Coca-Cola\n",
    "print(stocks[0][1])\n",
    "\n",
    "# Use indexing to obtain 71.17\n",
    "print(stocks[1][2])"
   ]
  },
  {
   "cell_type": "markdown",
   "id": "ab3c1662",
   "metadata": {},
   "source": [
    "### Exercise 5 - Exploring list methods and functions"
   ]
  },
  {
   "cell_type": "code",
   "execution_count": 6,
   "id": "7cca5329",
   "metadata": {},
   "outputs": [
    {
     "name": "stdout",
     "output_type": "stream",
     "text": [
      "[37.13, 71.17, 159.54]\n",
      "159.54\n"
     ]
    }
   ],
   "source": [
    "# Print the sorted list prices\n",
    "prices = [159.54, 37.13, 71.17]\n",
    "prices.sort()\n",
    "print(prices)\n",
    "\n",
    "# Find the maximum price in the list price\n",
    "price_max = max(prices)\n",
    "print(price_max)"
   ]
  },
  {
   "cell_type": "markdown",
   "id": "aabd8daa",
   "metadata": {},
   "source": [
    "### Exercise 6 - Using list methods to add data"
   ]
  },
  {
   "cell_type": "code",
   "execution_count": 7,
   "id": "940cc6bf",
   "metadata": {},
   "outputs": [
    {
     "name": "stdout",
     "output_type": "stream",
     "text": [
      "['Apple Inc', 'Coca-Cola', 'Walmart', 'Amazon.com']\n",
      "['Apple Inc', 'Coca-Cola', 'Walmart', 'Amazon.com', 'DowDuPont', 'Alphabet Inc']\n"
     ]
    }
   ],
   "source": [
    "# Append a name to the list names\n",
    "names.append('Amazon.com')\n",
    "print(names)\n",
    "\n",
    "# Extend list names\n",
    "more_elements = ['DowDuPont', 'Alphabet Inc']\n",
    "names.extend(more_elements)\n",
    "print(names)"
   ]
  },
  {
   "cell_type": "markdown",
   "id": "6c570dc2",
   "metadata": {},
   "source": [
    "### Exercies 7 - Finding stock with maximum price"
   ]
  },
  {
   "cell_type": "code",
   "execution_count": 8,
   "id": "04fecad6",
   "metadata": {},
   "outputs": [
    {
     "name": "stdout",
     "output_type": "stream",
     "text": [
      "The largest stock price is associated with Walmart and is $159.54.\n"
     ]
    }
   ],
   "source": [
    "# Do not modify this\n",
    "max_price = max(prices)\n",
    "\n",
    "# Identify index of max price\n",
    "max_index = prices.index(max_price)\n",
    "\n",
    "# Identify the name of the company with max price\n",
    "max_stock_name = names[max_index]\n",
    "\n",
    "# Fill in the blanks \n",
    "print('The largest stock price is associated with ' + max_stock_name + ' and is $' + str(max_price) + '.')"
   ]
  },
  {
   "cell_type": "markdown",
   "id": "22468954",
   "metadata": {},
   "source": [
    "## Extra Exercises"
   ]
  },
  {
   "cell_type": "code",
   "execution_count": 2,
   "id": "9c369c8f",
   "metadata": {},
   "outputs": [
    {
     "name": "stdout",
     "output_type": "stream",
     "text": [
      "\n",
      "Top-10 most valuable S&P 500 companies (live data):\n",
      "                Company Ticker  MarketCap ($ bn)\n",
      "              Microsoft   MSFT            3416.9\n",
      "                 Nvidia   NVDA            3293.5\n",
      "             Apple Inc.   AAPL            2987.8\n",
      "                 Amazon   AMZN            2180.1\n",
      "Alphabet Inc. (Class A)  GOOGL            2104.2\n",
      "Alphabet Inc. (Class C)   GOOG            2103.6\n",
      "         Meta Platforms   META            1612.7\n",
      "            Tesla, Inc.   TSLA            1161.3\n",
      "               Broadcom   AVGO            1103.4\n",
      "                Walmart    WMT             782.0\n"
     ]
    }
   ],
   "source": [
    "import pandas as pd\n",
    "import yfinance as yf\n",
    "\n",
    "# --- 1. Pull the live S&P-500 constituents -----------------------\n",
    "sp500_table = pd.read_html(\n",
    "    \"https://en.wikipedia.org/wiki/List_of_S%26P_500_companies\",\n",
    "    header=0\n",
    ")[0]\n",
    "\n",
    "tickers = sp500_table[\"Symbol\"].tolist()\n",
    "names   = dict(zip(sp500_table[\"Symbol\"], sp500_table[\"Security\"]))\n",
    "\n",
    "# --- 2. Batch-download market-cap data with yfinance --------------\n",
    "# yfinance.Tickers lets you hit many tickers in one call\n",
    "yf_objs = yf.Tickers(\" \".join(tickers)).tickers\n",
    "\n",
    "caps = {}\n",
    "for tkr, obj in yf_objs.items():\n",
    "    try:\n",
    "        caps[tkr] = obj.fast_info[\"market_cap\"]  # integers in USD\n",
    "    except (KeyError, AttributeError):\n",
    "        # Fallback to .info if fast_info missing\n",
    "        caps[tkr] = obj.info.get(\"marketCap\", 0)\n",
    "\n",
    "# --- 3. Rank & display -------------------------------------------\n",
    "top10 = (pd.Series(caps, name=\"MarketCap\")\n",
    "           .sort_values(ascending=False)\n",
    "           .head(10)\n",
    "           .rename_axis(\"Ticker\")\n",
    "           .reset_index())\n",
    "\n",
    "top10[\"Company\"] = top10[\"Ticker\"].map(names)\n",
    "top10[\"MarketCap ($ bn)\"] = (top10[\"MarketCap\"]/1e9).round(1)\n",
    "top10 = top10[[\"Company\", \"Ticker\", \"MarketCap ($ bn)\"]]\n",
    "\n",
    "print(\"\\nTop-10 most valuable S&P 500 companies (live data):\")\n",
    "print(top10.to_string(index=False))\n"
   ]
  },
  {
   "cell_type": "markdown",
   "id": "28fab9ee",
   "metadata": {},
   "source": [
    "## Key Take-Aways (Chapter 2)\n",
    "- **What is a list?**  \n",
    "  An ordered, mutable sequence that can hold mixed types. "
   ]
  },
  {
   "cell_type": "code",
   "execution_count": null,
   "id": "136c6f56",
   "metadata": {},
   "outputs": [],
   "source": [
    "stocks = ['AAPL', 'MSFT', 'GOOG']\n",
    "prices = [172.5, 310.0, 128.4]\n",
    "\n",
    "# Creating Lists\n",
    "data = [stocks, prices]\n",
    "\n",
    "# Indexing & Slicing\n",
    "stocks[0]     # 'AAPL'\n",
    "stocks[-1]    # last element\n",
    "stocks[1:3]   # from idx 1 up to (not incl.) 3\n",
    "prices[:2]    # first two items\n",
    "prices[::2]   # every other item\n",
    "\n",
    "# Nested indexing\n",
    "data[0][1]     # 2nd element of stocks\n",
    "data[1][2]     # 3rd element of prices\n",
    "\n",
    "# List methods\n",
    "# Adding\n",
    "L.append(x)         # adds one element\n",
    "L.extend([a, b])    # concatenates another list\n",
    "L.insert(i, x)      # inserts at index i\n",
    "\n",
    "# Removing\n",
    "L.pop()             # removes & returns last\n",
    "L.pop(i)            # removes & returns at i\n",
    "L.remove(x)         # removes first occurrence of x\n",
    "L.clear()           # empties list\n",
    "\n",
    "# Reordering and copying\n",
    "L.sort()            # sorts in-place\n",
    "L.reverse()         # reverses order\n",
    "L2 = L.copy()       # shallow copy\n"
   ]
  }
 ],
 "metadata": {
  "kernelspec": {
   "display_name": "quant",
   "language": "python",
   "name": "python3"
  },
  "language_info": {
   "codemirror_mode": {
    "name": "ipython",
    "version": 3
   },
   "file_extension": ".py",
   "mimetype": "text/x-python",
   "name": "python",
   "nbconvert_exporter": "python",
   "pygments_lexer": "ipython3",
   "version": "3.11.12"
  }
 },
 "nbformat": 4,
 "nbformat_minor": 5
}
