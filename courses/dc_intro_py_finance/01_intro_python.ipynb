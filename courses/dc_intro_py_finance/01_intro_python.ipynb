{
 "cells": [
  {
   "cell_type": "markdown",
   "id": "562a88f7",
   "metadata": {},
   "source": [
    "# DataCamp - Introduction to Python for Finance\n"
   ]
  },
  {
   "cell_type": "markdown",
   "id": "38f15822",
   "metadata": {},
   "source": [
    "## Chapter 1 - Welcome to Python"
   ]
  },
  {
   "cell_type": "code",
   "execution_count": 1,
   "id": "e37fd752",
   "metadata": {},
   "outputs": [
    {
     "name": "stdout",
     "output_type": "stream",
     "text": [
      "Notebook running from: c:\\Tools\\miniconda3\\envs\\quant\\python.exe\n"
     ]
    }
   ],
   "source": [
    "import sys, pandas, yfinance, arch\n",
    "print(\"Notebook running from:\", sys.executable)\n"
   ]
  },
  {
   "cell_type": "markdown",
   "id": "359acc83",
   "metadata": {},
   "source": [
    "### Exercise 1 - Python as a calculator"
   ]
  },
  {
   "cell_type": "code",
   "execution_count": 3,
   "id": "9322fa28",
   "metadata": {},
   "outputs": [
    {
     "name": "stdout",
     "output_type": "stream",
     "text": [
      "9\n",
      "0\n",
      "15\n",
      "5.0\n"
     ]
    }
   ],
   "source": [
    "# Addition\n",
    "print(4+5)\n",
    "\n",
    "# Subtraction\n",
    "print(5-5)\n",
    "\n",
    "# Multiplication\n",
    "print(3*5)\n",
    "\n",
    "# Division\n",
    "print(10/2)"
   ]
  },
  {
   "cell_type": "markdown",
   "id": "d3edba45",
   "metadata": {},
   "source": [
    "### Exercise 2 - Creating numeric variable"
   ]
  },
  {
   "cell_type": "code",
   "execution_count": 14,
   "id": "30566233",
   "metadata": {},
   "outputs": [
    {
     "name": "stdout",
     "output_type": "stream",
     "text": [
      "497.04\n",
      "165.68\n"
     ]
    }
   ],
   "source": [
    "# Assign 229.23 to revenue_1\n",
    "revenue_1=229.23\n",
    "\n",
    "# Assign 177.86 to revenue_2\n",
    "revenue_2=177.86\n",
    "\n",
    "# Assign 89.95 to revenue_3\n",
    "revenue_3=89.95\n",
    "\n",
    "# Create the variable total and print the total revenue\n",
    "total = revenue_1+revenue_2+revenue_3\n",
    "print(total)\n",
    "\n",
    "# Print the average revenue\n",
    "average = total/3\n",
    "print(average)"
   ]
  },
  {
   "cell_type": "markdown",
   "id": "91c49123",
   "metadata": {},
   "source": [
    "### Exercise 3 - Creating different types of variables"
   ]
  },
  {
   "cell_type": "code",
   "execution_count": 12,
   "id": "43d4ef3d",
   "metadata": {},
   "outputs": [
    {
     "name": "stdout",
     "output_type": "stream",
     "text": [
      "Apple\n",
      "2017\n",
      "<class 'str'>\n",
      "<class 'int'>\n",
      "<class 'float'>\n"
     ]
    }
   ],
   "source": [
    "# Create company_1\n",
    "company_1 = 'Apple'\n",
    "print(company_1)\n",
    "\n",
    "# Create year_1\n",
    "year_1 = 2017\n",
    "print(year_1)\n",
    "\n",
    "# Type of company_1\n",
    "print(type(company_1))\n",
    "\n",
    "# Type of year_1\n",
    "print(type(year_1))\n",
    "\n",
    "# Type of revenue_1\n",
    "print(type(revenue_1))"
   ]
  },
  {
   "cell_type": "markdown",
   "id": "1d26cb8b",
   "metadata": {},
   "source": [
    "### Exercise 4 - Combining data types"
   ]
  },
  {
   "cell_type": "code",
   "execution_count": 13,
   "id": "02cddc06",
   "metadata": {},
   "outputs": [
    {
     "name": "stdout",
     "output_type": "stream",
     "text": [
      "The revenue of Apple in 2017 was $229.23 billion.\n"
     ]
    }
   ],
   "source": [
    "# Update data types\n",
    "year_1_str = str(year_1)\n",
    "revenue_1_str = str(revenue_1)\n",
    "\n",
    "# Create a complete sentence combining only the string data types\n",
    "sentence = 'The revenue of ' + company_1 + ' in ' + year_1_str + ' was $' + revenue_1_str + ' billion.'\n",
    "\n",
    "# Print sentence\n",
    "print(sentence)"
   ]
  }
 ],
 "metadata": {
  "kernelspec": {
   "display_name": "quant",
   "language": "python",
   "name": "python3"
  },
  "language_info": {
   "codemirror_mode": {
    "name": "ipython",
    "version": 3
   },
   "file_extension": ".py",
   "mimetype": "text/x-python",
   "name": "python",
   "nbconvert_exporter": "python",
   "pygments_lexer": "ipython3",
   "version": "3.11.12"
  }
 },
 "nbformat": 4,
 "nbformat_minor": 5
}
