{
 "cells": [
  {
   "cell_type": "markdown",
   "id": "7659ecd7",
   "metadata": {},
   "source": [
    "## Chapter 3 - Arrays"
   ]
  },
  {
   "cell_type": "code",
   "execution_count": 15,
   "id": "2b23bcbb",
   "metadata": {},
   "outputs": [
    {
     "name": "stdout",
     "output_type": "stream",
     "text": [
      "Notebook running from: c:\\Tools\\miniconda3\\envs\\quant\\python.exe\n"
     ]
    }
   ],
   "source": [
    "import sys, pandas as pd, yfinance as yf, numpy as np, arch\n",
    "print(\"Notebook running from:\", sys.executable)"
   ]
  },
  {
   "cell_type": "markdown",
   "id": "6c60013b",
   "metadata": {},
   "source": [
    "### Exercise 1 - Create an array"
   ]
  },
  {
   "cell_type": "code",
   "execution_count": 16,
   "id": "f71ae62e",
   "metadata": {},
   "outputs": [
    {
     "name": "stdout",
     "output_type": "stream",
     "text": [
      "[170.12  93.29  55.28 145.3  171.81  59.5  100.5 ]\n",
      "[ 9.2   5.31  2.41  5.91 15.42  2.51  6.79]\n"
     ]
    }
   ],
   "source": [
    "# Lists\n",
    "prices = [170.12, 93.29, 55.28, 145.30, 171.81, 59.50, 100.50]\n",
    "earnings = [9.2, 5.31, 2.41, 5.91, 15.42, 2.51, 6.79]\n",
    "\n",
    "# NumPy arrays\n",
    "prices_array = np.array(prices)\n",
    "earnings_array = np.array(earnings)\n",
    "\n",
    "# Print the arrays\n",
    "print(prices_array)\n",
    "print(earnings_array)"
   ]
  },
  {
   "cell_type": "markdown",
   "id": "885593db",
   "metadata": {},
   "source": [
    "### Exercise 2 - Elementwise operations from an array"
   ]
  },
  {
   "cell_type": "code",
   "execution_count": 17,
   "id": "f2a3c2e0",
   "metadata": {},
   "outputs": [
    {
     "name": "stdout",
     "output_type": "stream",
     "text": [
      "[18.49130435 17.56873823 22.93775934 24.58544839 11.14202335 23.70517928\n",
      " 14.8011782 ]\n"
     ]
    }
   ],
   "source": [
    "# Create PE ratio array\n",
    "pe_array = prices_array/earnings_array\n",
    "\n",
    "# Print pe_array\n",
    "print(pe_array)"
   ]
  },
  {
   "cell_type": "markdown",
   "id": "cc52704d",
   "metadata": {},
   "source": [
    "### Exercise 3 - Subsetting elements from an array"
   ]
  },
  {
   "cell_type": "code",
   "execution_count": 18,
   "id": "53d30430",
   "metadata": {},
   "outputs": [
    {
     "name": "stdout",
     "output_type": "stream",
     "text": [
      "[170.12  93.29  55.28]\n",
      "[171.81  59.5  100.5 ]\n",
      "[170.12 145.3  100.5 ]\n"
     ]
    }
   ],
   "source": [
    "# Subset the first three elements\n",
    "prices_subset_1 = prices_array[0:3]\n",
    "print(prices_subset_1)\n",
    "\n",
    "# Subset last three elements \n",
    "prices_subset_2 = prices_array[4:]\n",
    "print(prices_subset_2)\n",
    "\n",
    "# Subset every third element\n",
    "prices_subset_3 = prices_array[0:7:3]\n",
    "print(prices_subset_3)"
   ]
  },
  {
   "cell_type": "markdown",
   "id": "e07c2fe2",
   "metadata": {},
   "source": [
    "### Exercise 4 - Creating a 2D array"
   ]
  },
  {
   "cell_type": "code",
   "execution_count": 19,
   "id": "525dffcd",
   "metadata": {},
   "outputs": [
    {
     "name": "stdout",
     "output_type": "stream",
     "text": [
      "[[170.12  93.29  55.28 145.3  171.81  59.5  100.5 ]\n",
      " [  9.2    5.31   2.41   5.91  15.42   2.51   6.79]]\n",
      "(2, 7)\n",
      "14\n",
      "[[170.12   9.2 ]\n",
      " [ 93.29   5.31]\n",
      " [ 55.28   2.41]\n",
      " [145.3    5.91]\n",
      " [171.81  15.42]\n",
      " [ 59.5    2.51]\n",
      " [100.5    6.79]]\n",
      "(7, 2)\n",
      "14\n"
     ]
    }
   ],
   "source": [
    "# Create a 2D array of prices and earnings\n",
    "stock_array = np.array([prices, earnings])\n",
    "print(stock_array)\n",
    "\n",
    "# Print the shape of stock_array\n",
    "print(stock_array.shape)\n",
    "\n",
    "# Print the size of stock_array\n",
    "print(stock_array.size)\n",
    "\n",
    "# Transpose stock_array\n",
    "stock_array_transposed = np.transpose(stock_array)\n",
    "print(stock_array_transposed)\n",
    "\n",
    "# Print the shape of stock_array\n",
    "print(stock_array_transposed.shape)\n",
    "\n",
    "# Print the size of stock_array\n",
    "print(stock_array_transposed.size)"
   ]
  },
  {
   "cell_type": "markdown",
   "id": "b0e9bf7f",
   "metadata": {},
   "source": [
    "### Exercise 5 - Subsetting 2D arrays"
   ]
  },
  {
   "cell_type": "code",
   "execution_count": 20,
   "id": "1efbacec",
   "metadata": {},
   "outputs": [
    {
     "name": "stdout",
     "output_type": "stream",
     "text": [
      "[170.12  93.29  55.28 145.3  171.81  59.5  100.5 ]\n",
      "[ 9.2   5.31  2.41  5.91 15.42  2.51  6.79]\n",
      "[170.12   9.2 ]\n"
     ]
    }
   ],
   "source": [
    "# Subset prices from stock_array_transposed\n",
    "prices = stock_array_transposed[:, 0]\n",
    "print(prices)\n",
    "\n",
    "# Subset earnings from stock_array_transposed\n",
    "earnings = stock_array_transposed[:, 1]\n",
    "print(earnings)\n",
    "\n",
    "# Subset the price and earning for first company\n",
    "company_1 = stock_array_transposed[0]\n",
    "print(company_1)"
   ]
  },
  {
   "cell_type": "markdown",
   "id": "c89949d5",
   "metadata": {},
   "source": [
    "### Exercise 6 - Calculating array stats"
   ]
  },
  {
   "cell_type": "code",
   "execution_count": 21,
   "id": "8c067435",
   "metadata": {},
   "outputs": [
    {
     "name": "stdout",
     "output_type": "stream",
     "text": [
      "113.6857142857143\n",
      "45.51277932221513\n"
     ]
    }
   ],
   "source": [
    "# Calculate the mean \n",
    "prices_mean = np.mean(prices)\n",
    "print(prices_mean)\n",
    "\n",
    "# Calculate the standard deviation \n",
    "prices_std = np.std(prices)\n",
    "print(prices_std)"
   ]
  },
  {
   "cell_type": "markdown",
   "id": "f4893cd5",
   "metadata": {},
   "source": [
    "### Exercise 7 - Generating a sequence of numbers"
   ]
  },
  {
   "cell_type": "code",
   "execution_count": 22,
   "id": "44976f70",
   "metadata": {},
   "outputs": [
    {
     "name": "stdout",
     "output_type": "stream",
     "text": [
      "[1 2 3 4 5 6 7]\n",
      "[1 3 5 7]\n"
     ]
    }
   ],
   "source": [
    "# Create and print company IDs\n",
    "company_ids = np.arange(1, 8, 1)\n",
    "print(company_ids)\n",
    "\n",
    "# Use array slicing to select specific company IDs\n",
    "company_ids_odd = np.arange(1, 8, 2)\n",
    "print(company_ids_odd)"
   ]
  },
  {
   "cell_type": "markdown",
   "id": "a2d94706",
   "metadata": {},
   "source": [
    "### Exercise 8 - Who's above average"
   ]
  },
  {
   "cell_type": "code",
   "execution_count": 23,
   "id": "06b9267e",
   "metadata": {},
   "outputs": [
    {
     "name": "stdout",
     "output_type": "stream",
     "text": [
      "[ True False False  True  True False False]\n",
      "[170.12 145.3  171.81]\n"
     ]
    }
   ],
   "source": [
    "# Find the mean\n",
    "price_mean = np.mean(prices)\n",
    "\n",
    "# Create boolean array\n",
    "boolean_array = (prices>price_mean)\n",
    "print(boolean_array)\n",
    "\n",
    "# Select prices that are greater than average\n",
    "above_avg = prices[boolean_array]\n",
    "print(above_avg)"
   ]
  }
 ],
 "metadata": {
  "kernelspec": {
   "display_name": "quant",
   "language": "python",
   "name": "python3"
  },
  "language_info": {
   "codemirror_mode": {
    "name": "ipython",
    "version": 3
   },
   "file_extension": ".py",
   "mimetype": "text/x-python",
   "name": "python",
   "nbconvert_exporter": "python",
   "pygments_lexer": "ipython3",
   "version": "3.11.12"
  }
 },
 "nbformat": 4,
 "nbformat_minor": 5
}
